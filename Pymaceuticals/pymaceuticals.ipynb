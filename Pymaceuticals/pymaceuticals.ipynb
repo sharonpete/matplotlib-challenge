{
 "cells": [
  {
   "attachments": {},
   "cell_type": "markdown",
   "metadata": {},
   "source": [
    "#  Observations and Inferences:\n",
    "#### Instructions: Look across all previously generated figures and tables and write at least three observations or inferences  that can be made from the data.  \n",
    "\n",
    "> 1. On the samples of data that do get printed out for the various analyses and graphs, one notices that the weight remains the same for a particular mouse throughout all of the Timepoints measurements and also that the Mouse Weight is to the nearest gram.  One assumption that might be made is that the mice are weighed only once, perhaps at the beginning of the experiment and that the original weight is carried forward.  That is why the scatterplot looks like so many vertical lines of points, with all of the mouse weights in integer values (whole numbers) in grams.\n",
    "\n",
    "> 2. Another curiosity is demonstrated by the box plots of the four Drug Regimens.  Capomulin and Ramicane have comparable boxplots and then Infuibinol and Ceftamin have comparable boxplots.  One may also infer that since a smaller tumor volume is better, Capomulin and Ramicane are more effective drug regimens for cancer than Infuibinol and Ceftamin.\n",
    "\n",
    "> 3. The other potentially remarkable thing about the four boxplots is that *none* of them show any outliers.  When I went back and examined the arrays of the final tumor volumes against the quartiles for each of the drug regimens, none of the drug regimens had any tumor volumes which would be considered outliers based on the analysis. This may not be the result for other drugs in the study. \n",
    "\n",
    "> 4. In looking at the graph with the line produced by linear regression analysis, the larger the weight of the mouse tends to indicate a larger Tumor Volume.  It should be noted that this is a correlation and not necessarily a causation, more analysis would need to be done.\n",
    "\n",
    "#### Other development notes:\n",
    "> I made this exercise too hard initially by trying to do the statistical analysis for each Drug Regimen at the Tumor Volume for each Timepoint.  I left in the drug_groups_describe DataFrame to demonstrate that it was possible to do this, even if it was unnecessary to do so.\n",
    "\n",
    "> The Line Plot of Tumor Volume vs. Timepoint for a single mouse in the Capomulin trial will change those series of cells are run as I am randomly selecting a mouse out of the Capomulin group to build the graph.  Happily, at least for every time I tested the graph, the line had a similar downward slope indicating that the Tumor Volume decreased for all of those mice.\n"
   ]
  },
  {
   "cell_type": "code",
   "execution_count": null,
   "metadata": {},
   "outputs": [],
   "source": []
  },
  {
   "cell_type": "code",
   "execution_count": null,
   "metadata": {},
   "outputs": [],
   "source": [
    "# Dependencies\n",
    "import matplotlib.pyplot as plt\n",
    "import numpy as np\n",
    "import pandas as pd\n",
    "from scipy.stats import sem\n",
    "from scipy.stats import linregress\n",
    "from random import *"
   ]
  },
  {
   "cell_type": "code",
   "execution_count": null,
   "metadata": {},
   "outputs": [],
   "source": [
    "# Read CSV\n",
    "study_results_df = pd.read_csv('data/Study_results.csv')\n",
    "study_results_df\n"
   ]
  },
  {
   "cell_type": "code",
   "execution_count": null,
   "metadata": {},
   "outputs": [],
   "source": [
    "mouse_meta_df = pd.read_csv('data/Mouse_metadata.csv')\n",
    "mouse_meta_df\n"
   ]
  },
  {
   "cell_type": "code",
   "execution_count": null,
   "metadata": {},
   "outputs": [],
   "source": [
    "# check for mouse ID with duplicate time points ... remove any data associated with that mouse ID\n",
    "study_results_df.duplicated(subset=['Timepoint', 'Mouse ID']).sum()\n",
    "\n",
    "dupes = study_results_df[study_results_df.duplicated(subset=['Mouse ID','Timepoint'])]\n",
    "dupes\n",
    "#dupes['Mouse ID'].unique()"
   ]
  },
  {
   "cell_type": "code",
   "execution_count": null,
   "metadata": {},
   "outputs": [],
   "source": [
    "# Dom's suggestion at office hours\n",
    "clean_study_results_df = study_results_df.loc[study_results_df['Mouse ID']!=dupes.iloc[0,0]]\n",
    "clean_study_results_df"
   ]
  },
  {
   "cell_type": "code",
   "execution_count": null,
   "metadata": {},
   "outputs": [],
   "source": [
    "# Join dataframes for next\n",
    "#mouse_meta_df.join(study_results_df,on='Mouse ID', how=\"inner\")\n",
    "new_df = clean_study_results_df.merge(mouse_meta_df, how='inner', left_on='Mouse ID', right_on='Mouse ID', suffixes=('l_','r_'))\n",
    "new_df"
   ]
  },
  {
   "cell_type": "code",
   "execution_count": null,
   "metadata": {},
   "outputs": [],
   "source": [
    "# first attempt at a summary statistics table, SEE BELOW \n",
    "drug_groups_describe = pd.DataFrame(new_df.groupby(['Drug Regimen','Timepoint'])['Tumor Volume (mm3)'].describe())\n",
    "\n",
    "drug_groups_describe"
   ]
  },
  {
   "cell_type": "code",
   "execution_count": null,
   "metadata": {},
   "outputs": [],
   "source": [
    "# Generate a summary statistics table consisting of mean, median, variance, standard deviation, and SEM \n",
    "# of the tumor volume for each drug regimen\n",
    "\n",
    "drug_groups_df = pd.DataFrame(new_df.groupby('Drug Regimen')['Tumor Volume (mm3)'].mean())\n",
    "drug_groups_df = drug_groups_df.rename(columns={'Tumor Volume (mm3)':'mean'})\n",
    "\n",
    "drug_median = pd.DataFrame(new_df.groupby('Drug Regimen')['Tumor Volume (mm3)'].median())\n",
    "drug_median = drug_median.rename(columns={'Tumor Volume (mm3)':'median'})\n",
    "drug_groups_df = pd.concat([drug_groups_df, drug_median], axis=1)\n",
    "\n",
    "drug_var = pd.DataFrame(new_df.groupby('Drug Regimen')['Tumor Volume (mm3)'].var())\n",
    "drug_var = drug_var.rename(columns={'Tumor Volume (mm3)':'var'})\n",
    "drug_groups_df = pd.concat([drug_groups_df, drug_var], axis=1)\n",
    "\n",
    "drug_std = pd.DataFrame(new_df.groupby('Drug Regimen')['Tumor Volume (mm3)'].std())\n",
    "drug_std = drug_std.rename(columns={'Tumor Volume (mm3)':'std'})\n",
    "drug_groups_df = pd.concat([drug_groups_df, drug_std], axis=1)\n",
    "\n",
    "drug_sem = pd.DataFrame(new_df.groupby('Drug Regimen')['Tumor Volume (mm3)'].sem())\n",
    "drug_sem = drug_sem.rename(columns={'Tumor Volume (mm3)':'sem'})\n",
    "drug_groups_df = pd.concat([drug_groups_df, drug_sem], axis=1)\n",
    "drug_groups_df"
   ]
  },
  {
   "cell_type": "code",
   "execution_count": null,
   "metadata": {},
   "outputs": [],
   "source": [
    "# Generate a bar plot that shows the total number of measurements taken for each treatment regimen thru-out the study\n",
    "## using Panda's DataFrame.plot\n",
    "\n",
    "drug_list = new_df['Drug Regimen'].unique()\n",
    "\n",
    "measurement_count = new_df.groupby('Drug Regimen')['Mouse ID'].count()\n",
    "\n",
    "df = pd.DataFrame({'Drug Regimen':drug_list,'Measurement Count':measurement_count})\n",
    "ax = df.plot.bar(x='Drug Regimen', y='Measurement Count')\n",
    "plt.show()"
   ]
  },
  {
   "cell_type": "code",
   "execution_count": null,
   "metadata": {},
   "outputs": [],
   "source": [
    "## using Matplotlib 'pyplot'\n",
    "\n",
    "x_axis = np.arange(len(measurement_count))\n",
    "\n",
    "plt.bar(x_axis, measurement_count, color='blue', alpha=0.5, align=\"center\")\n",
    "\n",
    "tick_locations = [value for value in x_axis]\n",
    "plt.xticks(tick_locations, drug_list, rotation=\"vertical\")\n",
    "plt.title(\"Total Measurements Taken for Each Treatment\")\n",
    "plt.xlabel(\"Drug Regimens\")\n",
    "plt.ylabel(\"Measurement Count\")\n",
    "plt.show()"
   ]
  },
  {
   "cell_type": "code",
   "execution_count": null,
   "metadata": {},
   "outputs": [],
   "source": [
    "# Generate a pie plot that shows the distribution of female or male mice in the study\n",
    "## using Pandas's DataFrame.plot()\n",
    "\n",
    "new_df.groupby('Sex')['Mouse ID'].count().plot(kind='pie', y='Sex', shadow=True,  startangle=120, autopct='%1.1f%%')\n",
    "\n",
    "plt.show()"
   ]
  },
  {
   "cell_type": "code",
   "execution_count": null,
   "metadata": {},
   "outputs": [],
   "source": [
    "## using Matplotlib's 'pyplot'\n",
    "sex = new_df.groupby('Sex').count()\n",
    "labels = [\"Females\", \"Males\"]\n",
    "sex_count = [922, 958]\n",
    "explode = (0.1,0)\n",
    "colors = [\"lightcoral\",\"lightskyblue\"]\n",
    "plt.pie(sex_count, explode=explode, labels=labels, colors=colors, autopct=\"%1.1f%%\", startangle=90)\n",
    "plt.axis(\"equal\")\n",
    "plt.show()"
   ]
  },
  {
   "cell_type": "code",
   "execution_count": null,
   "metadata": {},
   "outputs": [],
   "source": [
    "# Calculate the final tumor volume of each mouse across four of the most promising treatment regimens:\n",
    "## Capomulin, Ramicane, Infuibinol, and  Ceftamin\n",
    "\n",
    "# Mouse ID, Timepoint =max?, Tumor volume, Drug Regimen\n",
    "final_tumor_df = new_df[['Drug Regimen', 'Mouse ID', 'Timepoint', 'Tumor Volume (mm3)']]\n",
    "\n",
    "final_tumor_cap = final_tumor_df.loc[final_tumor_df['Drug Regimen'] == 'Capomulin']\n",
    "final_tumor_cap = final_tumor_cap.loc[final_tumor_cap['Timepoint'] == final_tumor_cap['Timepoint'].max()]\n",
    "\n",
    "final_tumor_cap"
   ]
  },
  {
   "cell_type": "code",
   "execution_count": null,
   "metadata": {},
   "outputs": [],
   "source": [
    "final_tumor_ram = final_tumor_df.loc[final_tumor_df['Drug Regimen'] == 'Ramicane']\n",
    "final_tumor_ram = final_tumor_ram.loc[final_tumor_ram['Timepoint'] == final_tumor_ram['Timepoint'].max()]\n",
    "\n",
    "final_tumor_ram"
   ]
  },
  {
   "cell_type": "code",
   "execution_count": null,
   "metadata": {},
   "outputs": [],
   "source": [
    "final_tumor_inf = final_tumor_df.loc[final_tumor_df['Drug Regimen'] == 'Infubinol']\n",
    "final_tumor_inf = final_tumor_inf.loc[final_tumor_inf['Timepoint'] == final_tumor_inf['Timepoint'].max()]\n",
    "\n",
    "final_tumor_inf"
   ]
  },
  {
   "cell_type": "code",
   "execution_count": null,
   "metadata": {},
   "outputs": [],
   "source": [
    "final_tumor_cef = final_tumor_df.loc[final_tumor_df['Drug Regimen'] == 'Ceftamin']\n",
    "final_tumor_cef = final_tumor_cef.loc[final_tumor_cef['Timepoint'] == final_tumor_cef['Timepoint'].max()]\n",
    "\n",
    "final_tumor_cef"
   ]
  },
  {
   "cell_type": "code",
   "execution_count": null,
   "metadata": {},
   "outputs": [],
   "source": [
    "# Calculate the quartiles and IQR and quantitatively determine if there are any potential outliers across \n",
    "# all four treatment regimens.\n",
    "cap_tumors = np.asarray(final_tumor_cap['Tumor Volume (mm3)'])\n",
    "cap_tumors"
   ]
  },
  {
   "cell_type": "code",
   "execution_count": null,
   "metadata": {},
   "outputs": [],
   "source": [
    "# Calculate the quartiles and IQR \n",
    "cap_quartiles = pd.DataFrame(cap_tumors).quantile([.25,.5,.75], axis=0)\n",
    "cap_quartiles"
   ]
  },
  {
   "cell_type": "code",
   "execution_count": null,
   "metadata": {},
   "outputs": [],
   "source": [
    "cap_lowerq = cap_quartiles.loc[0.25]  #TODO: this reference needs to be cleaned up\n",
    "cap_median = cap_quartiles.loc[0.50]\n",
    "cap_upperq = cap_quartiles.loc[0.75]\n",
    "cap_iqr = cap_upperq - cap_lowerq\n",
    "\n",
    "print(f'The lower quartile of tumor volume for Capomulin is: {cap_lowerq[0]}')\n",
    "print(f'The upper quartile of tumor volume for Capomulin is: {cap_upperq[0]}')\n",
    "print(f'The interquartile range of tumor volume for Capomulin is: {cap_iqr[0]}')\n",
    "print(f'The median of tumor volume for Capomulin is: {cap_median[0]}')\n",
    "\n",
    "cap_lower_bound = cap_lowerq - (1.5*cap_iqr)\n",
    "cap_upper_bound = cap_upperq + (1.5*cap_iqr)\n",
    "\n",
    "print(f'Capomulin tumor volume below {cap_lower_bound[0]} could be outliers.')\n",
    "print(f'Capomulin tumor volume above {cap_upper_bound[0]} could be outliers.')"
   ]
  },
  {
   "cell_type": "code",
   "execution_count": null,
   "metadata": {},
   "outputs": [],
   "source": [
    "ram_tumors = np.asarray(final_tumor_ram['Tumor Volume (mm3)'])\n",
    "ram_tumors"
   ]
  },
  {
   "cell_type": "code",
   "execution_count": null,
   "metadata": {},
   "outputs": [],
   "source": [
    "# Calculate the quartiles and IQR\n",
    "ram_quartiles = pd.DataFrame(ram_tumors).quantile([.25,.5,.75], axis=0)\n",
    "ram_quartiles"
   ]
  },
  {
   "cell_type": "code",
   "execution_count": null,
   "metadata": {},
   "outputs": [],
   "source": [
    "ram_lowerq = ram_quartiles.loc[0.25]  #TODO: this reference needs to be cleaned up\n",
    "ram_median = ram_quartiles.loc[0.50]\n",
    "ram_upperq = ram_quartiles.loc[0.75]\n",
    "ram_iqr = ram_upperq - ram_lowerq\n",
    "\n",
    "print(f'The lower quartile of tumor volume for Ramicane is: {ram_lowerq[0]}')\n",
    "print(f'The upper quartile of tumor volume for Ramicane is: {ram_upperq[0]}')\n",
    "print(f'The interquartile range of tumor volume for Ramicane is: {ram_iqr[0]}')\n",
    "print(f'The median of tumor volume for Ramicane is: {ram_median[0]}')\n",
    "\n",
    "ram_lower_bound = ram_lowerq - (1.5*ram_iqr)\n",
    "ram_upper_bound = ram_upperq + (1.5*ram_iqr)\n",
    "\n",
    "print(f'Ramicane tumor volume below {ram_lower_bound[0]} could be outliers.')\n",
    "print(f'Ramicane tumor volume above {ram_upper_bound[0]} could be outliers.')"
   ]
  },
  {
   "cell_type": "code",
   "execution_count": null,
   "metadata": {},
   "outputs": [],
   "source": [
    "# Infubinol\n",
    "inf_tumors = np.asarray(final_tumor_inf['Tumor Volume (mm3)'])\n",
    "inf_tumors"
   ]
  },
  {
   "cell_type": "code",
   "execution_count": null,
   "metadata": {},
   "outputs": [],
   "source": [
    "inf_quartiles = pd.DataFrame(inf_tumors).quantile([.25,.5,.75], axis=0)\n",
    "inf_quartiles"
   ]
  },
  {
   "cell_type": "code",
   "execution_count": null,
   "metadata": {},
   "outputs": [],
   "source": [
    "inf_lowerq = inf_quartiles.loc[0.25]  #TODO: this reference needs to be cleaned up\n",
    "inf_median = inf_quartiles.loc[0.50]\n",
    "inf_upperq = inf_quartiles.loc[0.75]\n",
    "inf_iqr = inf_upperq - inf_lowerq\n",
    "\n",
    "print(f'The lower quartile of tumor volume for Infubinol is: {inf_lowerq[0]}')\n",
    "print(f'The upper quartile of tumor volume for Infubinol is: {inf_upperq[0]}')\n",
    "print(f'The interquartile range of tumor volume for Infubinol is: {inf_iqr[0]}')\n",
    "print(f'The median of tumor volume for Infubinol is: {inf_median[0]}')\n",
    "\n",
    "inf_lower_bound = inf_lowerq - (1.5*inf_iqr)\n",
    "inf_upper_bound = inf_upperq + (1.5*inf_iqr)\n",
    "\n",
    "print(f'Infubinol tumor volume below {inf_lower_bound[0]} could be outliers.')\n",
    "print(f'Infubinol tumor volume above {inf_upper_bound[0]} could be outliers.')"
   ]
  },
  {
   "cell_type": "code",
   "execution_count": null,
   "metadata": {},
   "outputs": [],
   "source": [
    "# Ceftamin\n",
    "cef_tumors = np.asarray(final_tumor_cef['Tumor Volume (mm3)'])\n",
    "cef_tumors"
   ]
  },
  {
   "cell_type": "code",
   "execution_count": null,
   "metadata": {},
   "outputs": [],
   "source": [
    "cef_quartiles = pd.DataFrame(cef_tumors).quantile([.25,.5,.75], axis=0)\n",
    "cef_quartiles"
   ]
  },
  {
   "cell_type": "code",
   "execution_count": null,
   "metadata": {},
   "outputs": [],
   "source": [
    "cef_lowerq = cef_quartiles.loc[0.25]  #TODO: this reference needs to be cleaned up\n",
    "cef_median = cef_quartiles.loc[0.50]\n",
    "cef_upperq = cef_quartiles.loc[0.75]\n",
    "cef_iqr = cef_upperq - cef_lowerq\n",
    "\n",
    "print(f'The lower quartile of tumor volume for Ceftamin is: {cef_lowerq[0]}')\n",
    "print(f'The upper quartile of tumor volume for Ceftamin is: {cef_upperq[0]}')\n",
    "print(f'The interquartile range of tumor volume for Ceftamin is: {cef_iqr[0]}')\n",
    "print(f'The median of tumor volume for Ceftamin is: {cef_median[0]}')\n",
    "\n",
    "cef_lower_bound = cef_lowerq - (1.5*cef_iqr)\n",
    "cef_upper_bound = cef_upperq + (1.5*cef_iqr)\n",
    "\n",
    "print(f'Ceftamin tumor volume below {cef_lower_bound[0]} could be outliers.')\n",
    "print(f'Ceftamin tumor volume above {cef_upper_bound[0]} could be outliers.')"
   ]
  },
  {
   "cell_type": "code",
   "execution_count": null,
   "metadata": {},
   "outputs": [],
   "source": [
    "# Capomulin, Ramicane, Infuibinol, and  Ceftamin\n",
    "\n",
    "columns = [cap_tumors, ram_tumors, inf_tumors, cef_tumors]\n",
    "\n",
    "fig, ax = plt.subplots()\n",
    "ax.set_title('Drug Regimens')\n",
    "ax.set_ylabel('Tumor Volume (mm3)')\n",
    "labels=[\"Capomulin\", \"Ramicane\", \"Infuibinol\",\"Ceftamin\"]\n",
    "ax.boxplot(columns, labels=labels)\n",
    "plt.show()"
   ]
  },
  {
   "cell_type": "code",
   "execution_count": null,
   "metadata": {},
   "outputs": [],
   "source": [
    "# Select a mouse that was treated with Capomulin \n",
    "# Drug Regimen, Mouse ID, Timepoint, Tumor volume, Weight\n",
    "capomulin_df = new_df[['Drug Regimen', 'Mouse ID', 'Timepoint', 'Tumor Volume (mm3)', \n",
    "                        'Weight (g)']]\n",
    "\n",
    "capomulin_df = capomulin_df.loc[capomulin_df['Drug Regimen'] == 'Capomulin']\n",
    "capomulin_df"
   ]
  },
  {
   "cell_type": "code",
   "execution_count": null,
   "metadata": {},
   "outputs": [],
   "source": [
    "mice = capomulin_df['Mouse ID']\n",
    "mice"
   ]
  },
  {
   "cell_type": "code",
   "execution_count": null,
   "metadata": {},
   "outputs": [],
   "source": [
    "mouse_arr = mice.unique()\n",
    "mouse_arr"
   ]
  },
  {
   "cell_type": "code",
   "execution_count": null,
   "metadata": {},
   "outputs": [],
   "source": [
    "x = randint(0, 24)    # Pick a random number between 0 and 25.\n",
    "print(f'{x} and mouse id:{mouse_arr[x]}.')\n",
    "\n",
    "mouse = capomulin_df.loc[capomulin_df['Mouse ID'] == mouse_arr[x]]      #'b128']\n",
    "mouse"
   ]
  },
  {
   "cell_type": "code",
   "execution_count": null,
   "metadata": {},
   "outputs": [],
   "source": [
    "# generate a line plot of tumor volume vs. time point for that mouse\n",
    "\n",
    "plt.plot(mouse['Timepoint'], mouse['Tumor Volume (mm3)'])\n",
    "plt.xlabel(\"Timepoint\")\n",
    "plt.ylabel(\"Tumor Volume (mm3)\")\n",
    "plt.title(f'Tumor vs Time for Mouse ID {mouse_arr[x]}')\n",
    "plt.show()"
   ]
  },
  {
   "cell_type": "code",
   "execution_count": null,
   "metadata": {},
   "outputs": [],
   "source": [
    "# Generate a scatter plot of tumor volume versus mouse weight for the Capomulin treatment regimen\n",
    "x_values = capomulin_df['Weight (g)']\n",
    "y_values = capomulin_df['Tumor Volume (mm3)']\n",
    "\n",
    "# Calc the correlation coefficient and linear regression model between mouse weight and\n",
    "# average tumor volume for the Capomulin treatment.  \n",
    "\n",
    "(slope, intercept, rvalue, pvalue, stderr) = linregress(x_values, y_values)\n",
    "regress_values = x_values * slope + intercept\n",
    "line_eq = \"y = \" + str(round(slope,2)) + \"x + \" + str(round(intercept,2))\n",
    "\n",
    "# Plot the linear regression model on top of the previous scatter plot\n",
    "plt.scatter( x_values, y_values, marker=\"o\", facecolor='blue', alpha=0.75)\n",
    "plt.plot(x_values, regress_values, \"r-\")\n",
    "plt.annotate(line_eq, (18,25), fontsize=14, color='red')\n",
    "plt.ylabel(\"Tumor Volume (mm3)\")\n",
    "plt.xlabel(\"Weight (g)\")\n",
    "plt.title(f'Capomulin: Tumor vs Mouse Weight')\n",
    "plt.show()"
   ]
  },
  {
   "cell_type": "code",
   "execution_count": null,
   "metadata": {},
   "outputs": [],
   "source": []
  }
 ],
 "metadata": {
  "kernelspec": {
   "display_name": "Python 3",
   "language": "python",
   "name": "python3"
  },
  "language_info": {
   "codemirror_mode": {
    "name": "ipython",
    "version": 3
   },
   "file_extension": ".py",
   "mimetype": "text/x-python",
   "name": "python",
   "nbconvert_exporter": "python",
   "pygments_lexer": "ipython3",
   "version": "3.6.10"
  }
 },
 "nbformat": 4,
 "nbformat_minor": 4
}
